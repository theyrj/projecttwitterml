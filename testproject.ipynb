{
 "cells": [
  {
   "cell_type": "code",
   "execution_count": 2,
   "metadata": {},
   "outputs": [
    {
     "name": "stdout",
     "output_type": "stream",
     "text": [
      "Sentiment(polarity=0.0, subjectivity=0.0)\n",
      "Neutral\n",
      "Sentiment(polarity=0.0, subjectivity=0.5)\n",
      "Neutral\n",
      "Sentiment(polarity=0.8, subjectivity=0.4)\n",
      "posative\n",
      "Sentiment(polarity=0.0, subjectivity=0.0)\n",
      "Neutral\n",
      "Sentiment(polarity=0.09999999999999998, subjectivity=0.85)\n",
      "posative\n",
      "Sentiment(polarity=0.0, subjectivity=0.0)\n",
      "Neutral\n",
      "Sentiment(polarity=0.0, subjectivity=0.0)\n",
      "Neutral\n",
      "Sentiment(polarity=-0.9375, subjectivity=1.0)\n",
      "Negative\n",
      "Sentiment(polarity=0.0, subjectivity=0.0)\n",
      "Neutral\n",
      "Sentiment(polarity=0.0, subjectivity=0.0)\n",
      "Neutral\n"
     ]
    },
    {
     "data": {
      "image/png": "[encoded data removed]",
      "text/plain": [
       "<Figure size 432x288 with 1 Axes>"
      ]
     },
     "metadata": {},
     "output_type": "display_data"
    },
    {
     "name": "stdout",
     "output_type": "stream",
     "text": [
      "yash raj\n"
     ]
    }
   ],
   "source": [
    "# -*- coding: utf-8 -*-\n",
    "\"\"\"Untitled50.ipynb\n",
    "\n",
    "Automatically generated by Colaboratory.\n",
    "\n",
    " https://colab.research.google.com/github/DEEPESH98/Machine-Larning/blob/master/twitter.ipynb\n",
    "\"\"\"\n",
    "\n",
    "import tweepy\n",
    "import matplotlib.pyplot as plt\n",
    "from  textblob import TextBlob \n",
    "import time\n",
    "\n",
    "consumer_key=\"\"\n",
    "consumer_secret=\"\"\n",
    "\n",
    "# The access tokens can be found on your applications's Details\n",
    "# page located at https://dev.twitter.com/apps (located\n",
    "# under \"Your access token\")\n",
    "access_token=\"\"\n",
    "access_token_secret=\"\"\n",
    "# tweepy explore\n",
    "dir(tweepy)\n",
    "\n",
    "# connected to jump server of twitter\n",
    "auth=tweepy.OAuthHandler(consumer_key,consumer_secret)\n",
    "\n",
    "# now we can connect from jump server to web server of twitter\n",
    "auth.set_access_token(access_token,access_token_secret)\n",
    "\n",
    "# now we can connect to API storge server of twitter\n",
    "api_connect=tweepy.API(auth)\n",
    "\n",
    "# now you can search any topic on twitter\n",
    "tweet_data=api_connect.search('India',count=10)\n",
    "\n",
    "pos=0\n",
    "neg=0\n",
    "neu=0\n",
    "\n",
    "# printing line by line\n",
    "for tweet in tweet_data:\n",
    "   #print(tweet.text)\n",
    "   analysis=TextBlob(tweet.text) # here it will apply NLP\\\n",
    "   print(analysis.sentiment)\n",
    "   # now checking polarity only\n",
    "   if analysis.sentiment.polarity > 0:\n",
    "      print(\"posative\")\n",
    "      pos=pos+1\n",
    "   elif analysis.sentiment.polarity == 0 :\n",
    "      print(\"Neutral\")\n",
    "      neu=neu+1\n",
    "   else :\n",
    "      print(\"Negative\")\n",
    "      neg=neg+1\n",
    "      \n",
    "# ploting graphs\n",
    "plt.xlabel(\"tags\")\n",
    "plt.ylabel(\"polarity\")\n",
    "#plt.bar(['pos','neg','neu'],[pos,neg,neu])\n",
    "plt.pie([pos,neg,neu],labels=['pos','neg','neu'],autopct=\"%1.1f%%\")\n",
    "plt.show()\n",
    "# If the authentication was successful, you should\n",
    "# see the name of the account print out\n",
    "api = tweepy.API(auth)\n",
    "print(api.me().name)"
   ]
  },
  {
   "cell_type": "code",
   "execution_count": null,
   "metadata": {},
   "outputs": [],
   "source": []
  },
  {
   "cell_type": "code",
   "execution_count": null,
   "metadata": {},
   "outputs": [],
   "source": []
  }
 ],
 "metadata": {
  "kernelspec": {
   "display_name": "Python 3",
   "language": "python",
   "name": "python3"
  },
  "language_info": {
   "codemirror_mode": {
    "name": "ipython",
    "version": 3
   },
   "file_extension": ".py",
   "mimetype": "text/x-python",
   "name": "python",
   "nbconvert_exporter": "python",
   "pygments_lexer": "ipython3",
   "version": "3.7.4"
  }
 },
 "nbformat": 4,
 "nbformat_minor": 2
}
